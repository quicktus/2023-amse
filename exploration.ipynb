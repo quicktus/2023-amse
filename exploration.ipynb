{
 "cells": [
  {
   "attachments": {},
   "cell_type": "markdown",
   "metadata": {},
   "source": [
    "# Data Exploration\n",
    "\n",
    "In this notebook describe your data exploration steps."
   ]
  },
  {
   "attachments": {},
   "cell_type": "markdown",
   "metadata": {},
   "source": [
    "## Install & Import dependencies"
   ]
  },
  {
   "cell_type": "code",
   "execution_count": 17,
   "metadata": {},
   "outputs": [
    {
     "name": "stdout",
     "output_type": "stream",
     "text": [
      "Defaulting to user installation because normal site-packages is not writeable\n",
      "Requirement already satisfied: pandas in /home/ki/.local/lib/python3.11/site-packages (2.0.1)\n",
      "Requirement already satisfied: python-dateutil>=2.8.2 in /home/ki/.local/lib/python3.11/site-packages (from pandas) (2.8.2)\n",
      "Requirement already satisfied: pytz>=2020.1 in /home/ki/.local/lib/python3.11/site-packages (from pandas) (2023.3)\n",
      "Requirement already satisfied: tzdata>=2022.1 in /home/ki/.local/lib/python3.11/site-packages (from pandas) (2023.3)\n",
      "Requirement already satisfied: numpy>=1.21.0 in /home/ki/.local/lib/python3.11/site-packages (from pandas) (1.24.3)\n",
      "Requirement already satisfied: six>=1.5 in /home/ki/.local/lib/python3.11/site-packages (from python-dateutil>=2.8.2->pandas) (1.16.0)\n",
      "Note: you may need to restart the kernel to use updated packages.\n",
      "Defaulting to user installation because normal site-packages is not writeable\n",
      "Requirement already satisfied: SQLAlchemy==1.4.46 in /home/ki/.local/lib/python3.11/site-packages (1.4.46)\n",
      "Requirement already satisfied: greenlet!=0.4.17 in /home/ki/.local/lib/python3.11/site-packages (from SQLAlchemy==1.4.46) (2.0.2)\n",
      "Note: you may need to restart the kernel to use updated packages.\n",
      "Defaulting to user installation because normal site-packages is not writeable\n",
      "Requirement already satisfied: matplotlib in /home/ki/.local/lib/python3.11/site-packages (3.6.2)\n",
      "Requirement already satisfied: contourpy>=1.0.1 in /home/ki/.local/lib/python3.11/site-packages (from matplotlib) (1.0.7)\n",
      "Requirement already satisfied: cycler>=0.10 in /home/ki/.local/lib/python3.11/site-packages (from matplotlib) (0.11.0)\n",
      "Requirement already satisfied: fonttools>=4.22.0 in /home/ki/.local/lib/python3.11/site-packages (from matplotlib) (4.39.4)\n",
      "Requirement already satisfied: kiwisolver>=1.0.1 in /home/ki/.local/lib/python3.11/site-packages (from matplotlib) (1.4.4)\n",
      "Requirement already satisfied: numpy>=1.19 in /home/ki/.local/lib/python3.11/site-packages (from matplotlib) (1.24.3)\n",
      "Requirement already satisfied: packaging>=20.0 in /usr/lib/python3.11/site-packages (from matplotlib) (23.1)\n",
      "Requirement already satisfied: pillow>=6.2.0 in /home/ki/.local/lib/python3.11/site-packages (from matplotlib) (9.5.0)\n",
      "Requirement already satisfied: pyparsing>=2.2.1 in /home/ki/.local/lib/python3.11/site-packages (from matplotlib) (3.0.9)\n",
      "Requirement already satisfied: python-dateutil>=2.7 in /home/ki/.local/lib/python3.11/site-packages (from matplotlib) (2.8.2)\n",
      "Requirement already satisfied: six>=1.5 in /home/ki/.local/lib/python3.11/site-packages (from python-dateutil>=2.7->matplotlib) (1.16.0)\n",
      "Note: you may need to restart the kernel to use updated packages.\n"
     ]
    }
   ],
   "source": [
    "%pip install pandas\n",
    "%pip install \"SQLAlchemy==1.4.46\"\n",
    "%pip install matplotlib"
   ]
  },
  {
   "cell_type": "code",
   "execution_count": 18,
   "metadata": {},
   "outputs": [],
   "source": [
    "import pandas as pd\n",
    "import matplotlib.pyplot as plt\n"
   ]
  },
  {
   "attachments": {},
   "cell_type": "markdown",
   "metadata": {},
   "source": [
    "## Load data"
   ]
  },
  {
   "cell_type": "code",
   "execution_count": 19,
   "metadata": {},
   "outputs": [
    {
     "name": "stdout",
     "output_type": "stream",
     "text": [
      "      mess_datum bedeckungsgrad\n",
      "0     2017-01-25       7.291667\n",
      "1     2017-01-26       3.986254\n",
      "2     2017-01-27        2.02926\n",
      "3     2017-01-28       3.579505\n",
      "4     2017-01-29       5.352837\n",
      "...          ...            ...\n",
      "1400  2020-11-25       6.136752\n",
      "1401  2020-11-26        6.14359\n",
      "1402  2020-11-27       5.484375\n",
      "1403  2020-11-28       6.093694\n",
      "1404  2020-11-29       5.899642\n",
      "\n",
      "[1405 rows x 2 columns]\n"
     ]
    }
   ],
   "source": [
    "cloud_df = pd.read_sql_table(\"cloud_data\", \"sqlite:///data.sqlite\")\n",
    "# bedeckungsgrad: estimated coverage of the visible sky with clouds in eighths\n",
    "\n",
    "# Replace -999 with NaN\n",
    "cloud_df.replace(-999, pd.NA, inplace=True)\n",
    "\n",
    "# Keep only the date part in the mess_datum column\n",
    "cloud_df[\"mess_datum\"] = cloud_df[\"mess_datum\"].dt.date\n",
    "\n",
    "# Group by mess_datum and calculate the average of bedeckungsgrad\n",
    "cloud_df = cloud_df.groupby(\"mess_datum\").mean().reset_index()\n",
    "\n",
    "# Drop the stations_id and the wolkendichte columns\n",
    "cloud_df.drop([\"stations_id\", \"wolkendichte\"], axis=1, inplace=True) # NOTE: wolkendichte is currently not used - drop to save memory\n",
    "\n",
    "print(cloud_df)"
   ]
  },
  {
   "cell_type": "code",
   "execution_count": 20,
   "metadata": {},
   "outputs": [
    {
     "name": "stdout",
     "output_type": "stream",
     "text": [
      "     mess_datum niederschlagshoehe_mm niederschlagsform schneehoehe_cm   \n",
      "0    2017-01-25              0.005414                 7       8.851808  \\\n",
      "1    2017-01-26              0.000325                 7       8.650059   \n",
      "2    2017-01-27              0.000217                 1        8.39822   \n",
      "3    2017-01-28              0.118482                 6       8.075416   \n",
      "4    2017-01-29              0.559761                 6       7.714116   \n",
      "...         ...                   ...               ...            ...   \n",
      "1401 2020-11-26              0.226201                 6       0.032787   \n",
      "1402 2020-11-27              0.023212                 6       0.031656   \n",
      "1403 2020-11-28              0.029349                 6       0.031161   \n",
      "1404 2020-11-29               0.06834                 6       0.033994   \n",
      "1405 2020-11-30              3.553369                 8       0.041832   \n",
      "\n",
      "     neuschneehoehe_cm  \n",
      "0              0.02129  \n",
      "1             0.004386  \n",
      "2              0.00188  \n",
      "3                  0.0  \n",
      "4             0.001253  \n",
      "...                ...  \n",
      "1401               0.0  \n",
      "1402               0.0  \n",
      "1403               0.0  \n",
      "1404          0.002491  \n",
      "1405          0.009334  \n",
      "\n",
      "[1406 rows x 5 columns]\n"
     ]
    }
   ],
   "source": [
    "rain_df = pd.read_sql_table(\"rain_data\", \"sqlite:///data.sqlite\")\n",
    "# niederschlagshoehe: precipitation height in mm\n",
    "# niederschlagsform: precipitation form\n",
    "# schneehoehe_cm: snow height in cm\n",
    "# neuschneehoehe_cm: fresh snow height in cm\n",
    "\n",
    "# Replace -999 with NaN\n",
    "rain_df.replace(-999, pd.NA, inplace=True)\n",
    "\n",
    "# Fill niederschlagsform column with pd.NA where applicable\n",
    "code_mapping = {\n",
    "    4: pd.NA, # Form of precipitation not known, although precipitation reported\n",
    "    9: pd.NA, # Misidentification; missing value or precipitation form not detectable with automatic measurement\n",
    "}\n",
    "rain_df[\"niederschlagsform\"] = rain_df[\"niederschlagsform\"].replace(code_mapping)\n",
    "\n",
    "# Custom function to calculate the mode excluding the value 0\n",
    "# NOTE: This is done to prevent having most of the values being 0 since in most cases there is no precipitation but that\"s not interesting\n",
    "def mode_without_zero(x):\n",
    "    x = x[x != 0]\n",
    "    return x.mode() if not x.empty else pd.NA\n",
    "\n",
    "# Group by mess_datum and calculate fitting aggregations for each column\n",
    "aggregations = {\n",
    "    \"niederschlagshoehe_mm\": \"mean\",\n",
    "    \"niederschlagsform\": mode_without_zero,\n",
    "    \"schneehoehe_cm\": \"mean\",\n",
    "    \"neuschneehoehe_cm\": \"mean\",\n",
    "}\n",
    "rain_df = rain_df.groupby(\"mess_datum\").agg(aggregations).reset_index()\n",
    "\n",
    "print(rain_df)"
   ]
  },
  {
   "cell_type": "code",
   "execution_count": 21,
   "metadata": {},
   "outputs": [
    {
     "name": "stdout",
     "output_type": "stream",
     "text": [
      "      mess_datum lufttemperatur rel_feuchte\n",
      "0     2017-01-25      -3.442213   87.438141\n",
      "1     2017-01-26      -2.463581   80.487406\n",
      "2     2017-01-27      -2.210204   73.508844\n",
      "3     2017-01-28      -2.100546   74.789761\n",
      "4     2017-01-29       0.387363   81.773907\n",
      "...          ...            ...         ...\n",
      "1400  2020-11-25       2.515915   89.532787\n",
      "1401  2020-11-26       3.280698   91.195072\n",
      "1402  2020-11-27       2.601096   91.718493\n",
      "1403  2020-11-28       1.314686   90.013671\n",
      "1404  2020-11-29       0.415469   83.557837\n",
      "\n",
      "[1405 rows x 3 columns]\n"
     ]
    }
   ],
   "source": [
    "temperature_df = pd.read_sql_table(\"temperature_data\", \"sqlite:///data.sqlite\")\n",
    "# lufttemperatur: air temperature in °C\n",
    "# rel_feuchte: relative humidity in %\n",
    "\n",
    "# Replace -999 with NaN\n",
    "temperature_df.replace(-999, pd.NA, inplace=True)\n",
    "\n",
    "# Keep only the date part in the mess_datum column\n",
    "temperature_df[\"mess_datum\"] = temperature_df[\"mess_datum\"].dt.date\n",
    "\n",
    "temperature_df = temperature_df.groupby(\"mess_datum\")[[\"lufttemperatur\", \"rel_feuchte\"]].mean().reset_index()\n",
    "\n",
    "print(temperature_df)"
   ]
  },
  {
   "cell_type": "code",
   "execution_count": 22,
   "metadata": {},
   "outputs": [
    {
     "name": "stdout",
     "output_type": "stream",
     "text": [
      "      mess_datum windstaerke\n",
      "0     2017-01-25    2.223214\n",
      "1     2017-01-26    2.682422\n",
      "2     2017-01-27    2.318584\n",
      "3     2017-01-28    2.176296\n",
      "4     2017-01-29    2.369436\n",
      "...          ...         ...\n",
      "1400  2020-11-25    2.371512\n",
      "1401  2020-11-26    2.147929\n",
      "1402  2020-11-27    1.681481\n",
      "1403  2020-11-28    2.123894\n",
      "1404  2020-11-29    2.115044\n",
      "\n",
      "[1405 rows x 2 columns]\n"
     ]
    }
   ],
   "source": [
    "wind_df = pd.read_sql_table(\"wind_data\", \"sqlite:///data.sqlite\")\n",
    "# windstaerke: wind speed in Bft\n",
    "\n",
    "# Replace -999 with NaN\n",
    "wind_df.replace(-999, pd.NA, inplace=True)\n",
    "\n",
    "# Keep only the date part in the mess_datum column\n",
    "wind_df[\"mess_datum\"] = wind_df[\"mess_datum\"].dt.date\n",
    "\n",
    "wind_df = wind_df.groupby(\"mess_datum\")[\"windstaerke\"].mean().reset_index()\n",
    "\n",
    "print(wind_df)"
   ]
  },
  {
   "cell_type": "code",
   "execution_count": 23,
   "metadata": {},
   "outputs": [
    {
     "name": "stdout",
     "output_type": "stream",
     "text": [
      "      acousticness  danceability  duration_ms  energy  instrumentalness  key   \n",
      "0          0.17100         0.658       168991   0.624          0.005880    1  \\\n",
      "1          0.27300         0.806       157849   0.475          0.000603    1   \n",
      "2          0.22100         0.700       140526   0.722          0.000000    7   \n",
      "3          0.25000         0.800       195429   0.658          0.000000    1   \n",
      "4          0.08070         0.845       176400   0.518          0.150000    7   \n",
      "...            ...           ...          ...     ...               ...  ...   \n",
      "7315       0.01850         0.636       219043   0.815          0.000000    5   \n",
      "7316       0.00681         0.643       224272   0.732          0.000046    5   \n",
      "7317       0.03720         0.641       241933   0.630          0.000000    8   \n",
      "7318       0.06810         0.731       225854   0.675          0.000000    7   \n",
      "7319       0.02590         0.615       284693   0.598          0.000000    4   \n",
      "\n",
      "      liveness  loudness  mode  speechiness    tempo                track_id   \n",
      "0       0.1160    -9.155     0       0.0915  181.942  5FLkxbVtsn88ejcLR62L4T  \\\n",
      "1       0.1300    -8.235     0       0.0489   99.995  1upzszB5JxMfNUEBmkcgaO   \n",
      "2       0.2720    -3.558     0       0.0369   90.989  3tjFYV6RSFtuktYl3ZtYcq   \n",
      "3       0.1110    -6.142     0       0.0790  140.042  7hxHWCCAIIxFLCzvDgnQHX   \n",
      "4       0.1570    -9.125     1       0.0790  120.029  42u8dZf00xsPqCgWFbqCqZ   \n",
      "...        ...       ...   ...          ...      ...                     ...   \n",
      "7315    0.1630    -5.098     0       0.0581  123.063  5tf1VVWniHgryyumXyJM7w   \n",
      "7316    0.0606    -6.762     0       0.0294  102.979  7gZQfdEQpmwAoPHSbEHzms   \n",
      "7317    0.4000    -6.393     1       0.0521   79.955  3u9fHuAtjMY1RW2mZfO4Cf   \n",
      "7318    0.1870    -7.143     0       0.0938  135.952  7ee58VnJwqYvUX8kOJftmo   \n",
      "7319    0.1360    -4.967     0       0.2070   80.293  3NIDOSThELMihLSOMZcL4k   \n",
      "\n",
      "      valence  \n",
      "0       0.314  \n",
      "1       0.560  \n",
      "2       0.756  \n",
      "3       0.462  \n",
      "4       0.165  \n",
      "...       ...  \n",
      "7315    0.636  \n",
      "7316    0.181  \n",
      "7317    0.415  \n",
      "7318    0.593  \n",
      "7319    0.653  \n",
      "\n",
      "[7320 rows x 13 columns]\n"
     ]
    }
   ],
   "source": [
    "audio_features_df = pd.read_sql_table(\"audio_features\", \"sqlite:///data.sqlite\")\n",
    "print(audio_features_df)"
   ]
  },
  {
   "cell_type": "code",
   "execution_count": 24,
   "metadata": {},
   "outputs": [
    {
     "name": "stdout",
     "output_type": "stream",
     "text": [
      "             date  position                track_id   \n",
      "0      2020-11-05         1  5FLkxbVtsn88ejcLR62L4T  \\\n",
      "1      2020-11-05         2  1upzszB5JxMfNUEBmkcgaO   \n",
      "2      2020-11-05         3  3tjFYV6RSFtuktYl3ZtYcq   \n",
      "3      2020-11-05         4  7hxHWCCAIIxFLCzvDgnQHX   \n",
      "4      2020-11-05         5  42u8dZf00xsPqCgWFbqCqZ   \n",
      "...           ...       ...                     ...   \n",
      "280195 2017-01-01       196  7g4ZuevZdAZh4EDrJG1S4X   \n",
      "280196 2017-01-01       197  6ME3MgyTvEF082QdPuJFbK   \n",
      "280197 2017-01-01       198  5ChkMS8OtdzJeqyybCc9R5   \n",
      "280198 2017-01-01       199  26H7SNTmq9QjiCQ0qpB6qm   \n",
      "280199 2017-01-01       200  6yr8GiTHWvFfi4o6Q5ebdT   \n",
      "\n",
      "                                         track               title   \n",
      "0                        Angeklagt , Bonez MC           Angeklagt   \\\n",
      "1                            gebe auf. , Lune           gebe auf.    \n",
      "2                            Mood  , 24kGoldn               Mood     \n",
      "3                  Lemonade  , Internet Money           Lemonade     \n",
      "4                           Jetski , Bonez MC              Jetski    \n",
      "...                                        ...                 ...   \n",
      "280195       Ciao Ciao , Bonez MC, RAF Camora           Ciao Ciao    \n",
      "280196                Hakuna Matata , Maxwell       Hakuna Matata    \n",
      "280197          Billie Jean , Michael Jackson         Billie Jean    \n",
      "280198                      Paper , KC Rebell               Paper    \n",
      "280199   'Till I Collapse , Eminem, Nate Dogg    'Till I Collapse    \n",
      "\n",
      "                        artist  \n",
      "0                    Bonez MC   \n",
      "1                        Lune   \n",
      "2                    24kGoldn   \n",
      "3              Internet Money   \n",
      "4                    Bonez MC   \n",
      "...                        ...  \n",
      "280195   Bonez MC, RAF Camora   \n",
      "280196                Maxwell   \n",
      "280197        Michael Jackson   \n",
      "280198              KC Rebell   \n",
      "280199      Eminem, Nate Dogg   \n",
      "\n",
      "[280200 rows x 6 columns]\n"
     ]
    }
   ],
   "source": [
    "songs_df = pd.read_sql_table(\"spotify_data\", \"sqlite:///data.sqlite\")\n",
    "\n",
    "# Convert the \"date\" column to pd.datetime\n",
    "songs_df[\"date\"] = pd.to_datetime(songs_df[\"date\"])\n",
    "\n",
    "print(songs_df)"
   ]
  },
  {
   "attachments": {},
   "cell_type": "markdown",
   "metadata": {},
   "source": [
    "### Data exploration\n",
    "#### Longest-running No.1 song"
   ]
  },
  {
   "cell_type": "code",
   "execution_count": 25,
   "metadata": {},
   "outputs": [
    {
     "name": "stdout",
     "output_type": "stream",
     "text": [
      "The Song with the longest duration at position 1 was \"Was du Liebe nennst\" (https://open.spotify.com/track/4hKWUzhQWsOkgT6LnDEASe) with 112 consecutive days at position 1.\n"
     ]
    }
   ],
   "source": [
    "# Filter the DataFrame for songs at position 1\n",
    "position_1_df = songs_df[songs_df[\"position\"] == 1]\n",
    "\n",
    "# Group by the song's URI and calculate the maximum consecutive days at position 1\n",
    "consecutive_days_df = position_1_df.groupby([\"track_id\", \"title\"])[\"date\"].apply(lambda x: x.diff().dt.days.eq(1).cumsum().value_counts().max())\n",
    "\n",
    "# Find the song with the maximum number of consecutive days at position 1\n",
    "max_consecutive_days = consecutive_days_df.max()\n",
    "song_with_longest_duration = consecutive_days_df[consecutive_days_df == max_consecutive_days].index[0]\n",
    "\n",
    "song_uri, song_title = song_with_longest_duration[0:2]\n",
    "print(f\"The Song with the longest duration at position 1 was \\\"{song_title.strip()}\\\" (https://open.spotify.com/track/{song_uri}) with {max_consecutive_days} consecutive days at position 1.\")"
   ]
  },
  {
   "attachments": {},
   "cell_type": "markdown",
   "metadata": {},
   "source": [
    "#### Most popular song on snowy days"
   ]
  },
  {
   "cell_type": "code",
   "execution_count": 26,
   "metadata": {},
   "outputs": [
    {
     "name": "stdout",
     "output_type": "stream",
     "text": [
      "The most popular song on snowy days was \"Ohne mein Team\" (https://open.spotify.com/track/05Mp2UJulSttxQ4E6hQPH3)\n"
     ]
    }
   ],
   "source": [
    "# Filter rain_df for days with snow\n",
    "snow_days_df = rain_df[rain_df[\"schneehoehe_cm\"].notna()]\n",
    "snow_days_df = snow_days_df[snow_days_df[\"schneehoehe_cm\"] > 0.1]\n",
    "\n",
    "# Merge snow_days_df with songs_df on the \"date\" column\n",
    "merged_df = snow_days_df.merge(songs_df, left_on=\"mess_datum\", right_on=\"date\")\n",
    "\n",
    "# Calculate the popularity score for each song on snowy days\n",
    "merged_df[\"popularity_score\"] = 201 - merged_df[\"position\"]\n",
    "\n",
    "# Group by song URI and calculate the total popularity score\n",
    "song_popularity = merged_df.groupby(\"track_id\")[\"popularity_score\"].sum()\n",
    "\n",
    "# Get the URI of the most popular song and find the corresponding song title\n",
    "most_popular_song_uri = song_popularity.idxmax()\n",
    "most_popular_song_title = merged_df.loc[merged_df[\"track_id\"] == most_popular_song_uri, \"title\"].iloc[0]\n",
    "\n",
    "print(f\"The most popular song on snowy days was \\\"{most_popular_song_title.strip()}\\\" (https://open.spotify.com/track/{most_popular_song_uri})\")"
   ]
  },
  {
   "attachments": {},
   "cell_type": "markdown",
   "metadata": {},
   "source": [
    "#### Hot weather means happier songs?"
   ]
  },
  {
   "cell_type": "code",
   "execution_count": 28,
   "metadata": {},
   "outputs": [
    {
     "name": "stderr",
     "output_type": "stream",
     "text": [
      "/tmp/ipykernel_44777/1671103096.py:16: SettingWithCopyWarning: \n",
      "A value is trying to be set on a copy of a slice from a DataFrame.\n",
      "Try using .loc[row_indexer,col_indexer] = value instead\n",
      "\n",
      "See the caveats in the documentation: https://pandas.pydata.org/pandas-docs/stable/user_guide/indexing.html#returning-a-view-versus-a-copy\n",
      "  filtered_df[\"temperature_bin\"] = pd.cut(filtered_df[\"lufttemperatur\"], temperature_bins)\n"
     ]
    },
    {
     "data": {
      "image/png": "[encoded data removed]",
      "text/plain": [
       "<Figure size 1000x600 with 1 Axes>"
      ]
     },
     "metadata": {},
     "output_type": "display_data"
    }
   ],
   "source": [
    "# join using common column \"track_id\"\n",
    "small_audio_features_df = audio_features_df[[\"track_id\", \"valence\"]]\n",
    "small_songs_df = songs_df[[\"track_id\", \"date\"]]\n",
    "temperature_df[\"mess_datum\"] = pd.to_datetime(temperature_df[\"mess_datum\"])\n",
    "small_temperature_df = temperature_df[[\"mess_datum\", \"lufttemperatur\"]]\n",
    "\n",
    "# Merge temperature_df, songs_df, and audio_features_df\n",
    "merged_df = small_temperature_df.merge(small_songs_df, left_on=\"mess_datum\", right_on=\"date\")\n",
    "merged_df = merged_df.merge(small_audio_features_df, on=\"track_id\")\n",
    "\n",
    "# Filter relevant columns\n",
    "filtered_df = merged_df[[\"lufttemperatur\", \"valence\"]]\n",
    "\n",
    "# Group the data by temperature and calculate the mean valence\n",
    "temperature_bins = temperature_bins = [x for x in range(-20, 40, 4)]\n",
    "filtered_df[\"temperature_bin\"] = pd.cut(filtered_df[\"lufttemperatur\"], temperature_bins)\n",
    "mean_valence_df = filtered_df.groupby(\"temperature_bin\")[\"valence\"].mean().reset_index()\n",
    "\n",
    "# Convert temperature_bin to numerical values\n",
    "mean_valence_df[\"temperature_bin_codes\"] = mean_valence_df[\"temperature_bin\"].cat.codes\n",
    "\n",
    "# Plot the relationship between temperature and mean valence\n",
    "plt.figure(figsize=(10, 6))\n",
    "plt.plot(mean_valence_df[\"temperature_bin_codes\"], mean_valence_df[\"valence\"], marker=\"o\")\n",
    "plt.xlabel(\"Temperature (°C)\")\n",
    "plt.ylabel(\"Mean Valence\")\n",
    "plt.title(\"Relationship between Temperature and Mean Valence of Songs\")\n",
    "plt.grid(True)\n",
    "plt.show()"
   ]
  }
 ],
 "metadata": {
  "kernelspec": {
   "display_name": "Python 3",
   "language": "python",
   "name": "python3"
  },
  "language_info": {
   "codemirror_mode": {
    "name": "ipython",
    "version": 3
   },
   "file_extension": ".py",
   "mimetype": "text/x-python",
   "name": "python",
   "nbconvert_exporter": "python",
   "pygments_lexer": "ipython3",
   "version": "3.11.3"
  },
  "orig_nbformat": 4
 },
 "nbformat": 4,
 "nbformat_minor": 2
}
